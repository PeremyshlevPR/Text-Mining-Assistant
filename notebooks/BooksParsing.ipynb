{
 "cells": [
  {
   "cell_type": "code",
   "execution_count": 1,
   "id": "4ea5dec7",
   "metadata": {},
   "outputs": [
    {
     "name": "stderr",
     "output_type": "stream",
     "text": [
      "C:\\Users\\Павел\\AppData\\Local\\Programs\\Python\\Python310\\lib\\site-packages\\scipy\\__init__.py:146: UserWarning: A NumPy version >=1.17.3 and <1.25.0 is required for this version of SciPy (detected version 1.26.1\n",
      "  warnings.warn(f\"A NumPy version >={np_minversion} and <{np_maxversion}\"\n"
     ]
    }
   ],
   "source": [
    "import os\n",
    "import re\n",
    "import math\n",
    "import numpy as np\n",
    "import re\n",
    "from typing import List, Tuple, Set\n",
    "\n",
    "import pandas as pd\n",
    "import matplotlib.pyplot as plt\n",
    "import seaborn as sns\n",
    "import PyPDF2\n",
    "from pdfminer.high_level import extract_pages, extract_text\n",
    "from pdfminer.layout import LTTextContainer, LTChar, LTRect, LTFigure\n",
    "from reportlab.pdfgen import canvas\n",
    "from reportlab.lib.pagesizes import A4\n",
    "import nltk\n",
    "import copy\n",
    "\n",
    "from pdfminer.pdfparser import PDFParser\n",
    "from pdfminer.pdfdocument import PDFDocument\n",
    "from pdfminer.pdfpage import PDFPage\n",
    "from pdfminer.pdfinterp import resolve1\n",
    "\n",
    "from tqdm.notebook import tqdm"
   ]
  },
  {
   "cell_type": "markdown",
   "id": "09f0032f",
   "metadata": {},
   "source": [
    "### Основные показатели\n",
    "В качестве основных показателей будем считать width, x0, length. Для каждого элемента формируем confidence_score, как линейную комбинацию значений показателей: width, x0, x1, length.\n",
    "\n",
    "*bin_confidence* - значение относительной высоты столбика в гистограмме. Чем выше этот столбик - тем больше элементов попадает в эту корзину => больше вероятность, что это полезный текст. Исключение - length, так как по гистограмме видно, что имеем очень много коротких текстов, хотя нам надо отдавать предпочтение более длинным. \n",
    "\n",
    "**Итог**:\n",
    "- Для каждого показателя необходимо подобрать значение веса\n",
    "- Алгоритм для вычисления bin_confidence\n",
    "- Алгоритм для вычисления уверенности по длине (нормирование на макс. длину)"
   ]
  },
  {
   "cell_type": "markdown",
   "id": "695f6069",
   "metadata": {},
   "source": [
    "### Scores for other attrs (width, x0, x1)"
   ]
  },
  {
   "cell_type": "markdown",
   "id": "a5f3d382",
   "metadata": {},
   "source": [
    "Для каждого аттрибута:\n",
    "1) Строим его распределение (гистограмма), делим на n бинов \\\n",
    "2) Рассчитываем bin_confidence = кол-во элементов в бине / общее кол-во элементов \\\n",
    "3) attr_confidence рассчитываем, как bin_confidence * attr_weight"
   ]
  },
  {
   "cell_type": "markdown",
   "id": "668cd49e",
   "metadata": {},
   "source": [
    "## Combine all together"
   ]
  },
  {
   "cell_type": "code",
   "execution_count": 4,
   "id": "f748a89f",
   "metadata": {},
   "outputs": [],
   "source": [
    "def extract_style(fontname: str) -> Tuple[str, str]:\n",
    "    STYLES = ['BoldItalic', 'Standart', 'Bold', 'Italic']\n",
    "    pattern = '|'.join(STYLES)\n",
    "    \n",
    "    if not isinstance(fontname, str):\n",
    "        raise TypeError(f'fontname should be a string, got {type(fontname)} type')\n",
    "    \n",
    "    if style_search_res := re.search(pattern, fontname):\n",
    "        style = style_search_res.group(0)\n",
    "        font = fontname.split(style)[0]\n",
    "        # Truncate last symbol because it's dash or comma\n",
    "        return font[:-1], style\n",
    "    return fontname, 'Standart'\n",
    "        \n",
    "\n",
    "def get_text_format(element) -> Tuple[str, int]:\n",
    "    \"\"\"\n",
    "    Функция итерируется по каждому символу в элементе.\n",
    "    Для каждого элемента фиксирует шрифт и размер и возвращает самые частовстречающиеся в тексте.\n",
    "    \"\"\"\n",
    "    if not isinstance(element, LTTextContainer):\n",
    "        raise TypeError('Can only get text format for LTTextContainer elements')\n",
    "        \n",
    "    if element.is_empty():\n",
    "        raise ValueError('Textbox is empty!')\n",
    "    \n",
    "    fonts = dict()\n",
    "    sizes = dict()\n",
    "    styles = dict()\n",
    "    \n",
    "    \n",
    "    for line in element:\n",
    "        if isinstance(line, LTTextContainer):\n",
    "            for character in line:\n",
    "                if isinstance(character, LTChar) and isinstance(character.fontname, str):\n",
    "                    character.size = round(character.size)\n",
    "                    font, style = extract_style(character.fontname)\n",
    "                    \n",
    "                    count_font = fonts.get(font, 0)\n",
    "                    count_style = styles.get(style, 0)\n",
    "                    count_size = sizes.get(character.size, 0)\n",
    "                    \n",
    "                    \n",
    "                    fonts[font] = count_font + 1\n",
    "                    sizes[character.size] = count_size + 1\n",
    "                    styles[style] = count_style + 1\n",
    "\n",
    "                    \n",
    "    # Most popular font and size in text\n",
    "    font = sorted(fonts.items(), key=lambda x: x[1], reverse=True)[0][0] if fonts else 'Other'\n",
    "    size = sorted(sizes.items(), key=lambda x: x[1], reverse=True)[0][0] if sizes else 0\n",
    "    style = sorted(styles.items(), key=lambda x: x[1], reverse=True)[0][0] if styles else 'Other'\n",
    "    return font, size, style\n",
    "\n",
    "\n",
    "def calculate_len_score(len_value: float, mean_len: float, slopes: Tuple[float, float] = (2, 1.5)):\n",
    "    def sigmoid(x, slope):\n",
    "        return 1 / (1 + np.exp(-slope * x))\n",
    "\n",
    "    slope = slopes[1] if len_value > mean_len else slopes[0]\n",
    "    normalized_len = (len_value - mean_len) / mean_len\n",
    "    \n",
    "    return sigmoid(normalized_len, slope=slope)\n",
    "\n",
    "\n",
    "def calculate_statistics(pages, verbose=False, verbose_params={}, min_length=50) -> dict:    \n",
    "    attrs = ['width', 'x0', 'x1', 'font', 'size', 'style', 'length']\n",
    "    elements = pd.DataFrame(columns=attrs)\n",
    "    \n",
    "    for pagenum, page in tqdm(enumerate(pages), total=verbose_params.get(\"n_pages\")):         \n",
    "        for i, element in enumerate(page._objs):\n",
    "            if isinstance(element, LTTextContainer) and not element.is_empty():                    \n",
    "                element.font, element.size, element.style = get_text_format(element)\n",
    "                element.length = len(element.get_text())\n",
    "                \n",
    "                element_data = {attr: getattr(element, attr) for attr in attrs}\n",
    "                elements.loc[len(elements.index)] = element_data\n",
    "    \n",
    "    font, size, style = elements.loc[:, ['font', 'size', 'style']].mode().iloc[0]\n",
    "    hist_stats = ('hist', 'bin_edges')\n",
    "    \n",
    "    statistics = {\n",
    "        'min_length': min_length,\n",
    "        'style': style,\n",
    "        'size': size,\n",
    "        'font': font,\n",
    "        'mean_length': elements.length.mean(),\n",
    "        'width': dict(zip(hist_stats, np.histogram(elements.width))),\n",
    "        'x0': dict(zip(hist_stats, np.histogram(elements.x0))),\n",
    "        'x1': dict(zip(hist_stats, np.histogram(elements.x1)))\n",
    "    }\n",
    "    \n",
    "    if verbose:\n",
    "        print(\"Most common font:\", font)\n",
    "        print(\"Most common size:\", size)\n",
    "        print(\"Most common style:\", style)\n",
    "    \n",
    "        fig, axs = plt.subplots(3, 2, figsize=(12, 8))\n",
    "        axs = axs.flatten()\n",
    "        bins = 20\n",
    "        \n",
    "        for i, attr in enumerate(['width', 'x0', 'x1', 'length']):\n",
    "            ax = axs[i]\n",
    "            ax.hist(elements[attr], bins=bins, alpha=0.7)\n",
    "            ax.axvline(elements[attr].mean(), color='red', linestyle='dashed', linewidth=1)\n",
    "            ax.set_title(attr.capitalize() + ' Distribution')\n",
    "            ax.set_xlabel(attr.capitalize())\n",
    "            ax.set_ylabel('Frequency')\n",
    "            ax.grid(True)        \n",
    "    \n",
    "        if verbose and (slopes := (verbose_params.get(\"len_scores\"))):\n",
    "            ax = axs[4]\n",
    "            length_scores = elements.length.apply(calculate_len_score, mean_len=elements.length.mean(), slopes=slopes)\n",
    "        \n",
    "            sns.scatterplot(x=elements.length, y=length_scores, ax=ax)\n",
    "            ax.axvline(elements.length.mean(), color='g', linestyle='--', label='Mean Length')\n",
    "            ax.set_xlabel('Length')\n",
    "            ax.set_ylabel('Length Score')\n",
    "            ax.set_title('Length Scores Distribution')\n",
    "        \n",
    "        plt.tight_layout()\n",
    "        plt.show()\n",
    "        \n",
    "    return statistics"
   ]
  },
  {
   "cell_type": "code",
   "execution_count": 5,
   "id": "1172c27f",
   "metadata": {},
   "outputs": [],
   "source": [
    "def get_attr_score(value, bin_edges, bin_scores):\n",
    "    for i, bin_edge in enumerate(bin_edges):\n",
    "        if bin_edge > value:\n",
    "            bin_index = i - 1\n",
    "            break\n",
    "    else:\n",
    "        bin_index = -1\n",
    "    \n",
    "    return bin_scores[bin_index] / bin_scores.max()\n",
    "\n",
    "\n",
    "def get_page_num_score(page_num, total_pages, slope=50):\n",
    "    x = page_num / total_pages\n",
    "    return 1 / (1 + np.exp(-slope * (0.5 - abs(0.5 - x))))\n",
    "\n",
    "\n",
    "def calculate_confidence(scores: dict, weights: dict):\n",
    "    numerator = sum([score * weights[attr] for attr, score in scores.items()])\n",
    "    denominator = sum(weights.values())\n",
    "    \n",
    "    return numerator / denominator\n",
    "\n",
    "\n",
    "def get_semantic_scores(text: str, lang='eng'):\n",
    "    result = {\n",
    "        'regex': 0,\n",
    "        'regex_msg': '',\n",
    "        'verbs': 0\n",
    "    }\n",
    "    \n",
    "    def validate_with_regex(text: str) -> Tuple[bool, str]:\n",
    "        if re.match(r'(?:\\d{1,2}\\.\\d{1,2})', text):\n",
    "            return False, 'START_WITH_NUMBERS'\n",
    "            \n",
    "        if re.search(r'(?:. ){5,}', text, flags=re.DOTALL):\n",
    "            return False, 'REPEATED_SEQUENCE'\n",
    "        \n",
    "        if (start_with_num_rows := re.findall(r'^\\d\\.?.*?$', text)) and (len(start_with_num_rows) > 2):\n",
    "            return False, 'START_WITH_NUM_ROWS'\n",
    "        return True, 'SUCCESS'\n",
    "    \n",
    "    # Validate with regex\n",
    "    is_valid, validation_message = validate_with_regex(text)\n",
    "    result['regex'] = 0.5 if is_valid else 0\n",
    "    result['regex_msg'] = validation_message\n",
    "    \n",
    "    # Count verbs in text\n",
    "    if lang == 'eng':\n",
    "        verbs_tag = 'VB'\n",
    "    elif lang in ('rus', 'ru'):\n",
    "        lang = 'rus'\n",
    "        verbs_tag = 'V'\n",
    "    else:\n",
    "        raise Exception('Supports only English and Russian languages')\n",
    "        \n",
    "    tokens = nltk.word_tokenize(text.lower())\n",
    "    text = nltk.Text(tokens)\n",
    "    tags = nltk.pos_tag(text, lang=lang)\n",
    "    verbs = [tag for tag in tags if tag[1].startswith(verbs_tag)]\n",
    "    \n",
    "    result['verbs'] = len(verbs) / len(tags)\n",
    "    \n",
    "    # Linebreaks score\n",
    "    linebreaks = text.count('\\n')\n",
    "    linebreaks_score = (1 - 0.2 * linebreaks) if linebreaks < 5 else 0\n",
    "    result['linebreaks'] = linebreaks_score\n",
    "    \n",
    "    return result"
   ]
  },
  {
   "cell_type": "code",
   "execution_count": 11,
   "id": "bd92ffa3",
   "metadata": {},
   "outputs": [],
   "source": [
    "def parse_pdf(filepath: str,\n",
    "              attr_weights: dict,\n",
    "              conf_threshold: float,\n",
    "              statistics: dict=None,\n",
    "              len_slopes=(2, 1.5),\n",
    "              lang='eng',\n",
    "              verbose: bool = False,\n",
    "              debug: bool = False,\n",
    "              debug_dir: str = None\n",
    "             ):\n",
    "    \n",
    "    elements_to_include = []\n",
    "\n",
    "    if debug:\n",
    "        if not debug_dir:\n",
    "            raise ValueError('\"debug_dir\" argument should be passed if debug=True')\n",
    "            \n",
    "        debug_filepath = debug_dir + filepath.split('/')[-1].removesuffix('.pdf') + '_CHECK.pdf'\n",
    "        debug_pdf = canvas.Canvas(debug_filepath, pagesize=A4)\n",
    "        debug_pdf.setTitle('parsedFile.pdf')\n",
    "        \n",
    "    file = open(filepath, 'rb')\n",
    "    pages = extract_pages(file)\n",
    "    parser = PDFParser(file)\n",
    "    document = PDFDocument(parser)\n",
    "    n_pages = resolve1(document.catalog['Pages'])['Count']\n",
    "        \n",
    "    if not statistics:\n",
    "        print('Statistics dictionary not passed, calculate statistics...')\n",
    "        verbose_params={\n",
    "            \"n_pages\": n_pages,\n",
    "            \"len_scores\": len_slopes\n",
    "        }\n",
    "        statistics = calculate_statistics(pages=extract_pages(file),\n",
    "                                          verbose=verbose,\n",
    "                                          verbose_params=verbose_params\n",
    "                                         )\n",
    "        print(f'Statistics calculated.\\nResults:\\n{statistics}')\n",
    "        \n",
    "    min_length = 50\n",
    "    \n",
    "    weights_0 = {name: attr_weights[name].pop('total') for name in attr_weights}\n",
    "    \n",
    "    for pagenum, page in tqdm(enumerate(pages), total=n_pages):         \n",
    "        for i, element in enumerate(page._objs):\n",
    "            if isinstance(element, LTTextContainer) and not element.is_empty():\n",
    "                element.text = element.get_text()\n",
    "                element.font, element.size, element.style = get_text_format(element)\n",
    "                \n",
    "                scores = {}\n",
    "                pos_scores = {}\n",
    "                semantical_scores = {}\n",
    "                \n",
    "                if len(element.text) < min_length:\n",
    "                    confidence = 0\n",
    "                else:\n",
    "                    \n",
    "                    pos_scores['length'] = calculate_len_score(len(element.text),\n",
    "                                                           mean_len=statistics['mean_length'],\n",
    "                                                           slopes=len_slopes)\n",
    "                    pos_scores['pagenum'] = get_page_num_score(page_num=pagenum, total_pages=n_pages)\n",
    "                    \n",
    "                    for attr in ('x0', 'x1', 'width'):\n",
    "                        pos_scores[attr] = get_attr_score(getattr(element, attr),\n",
    "                                                      bin_edges=statistics[attr]['bin_edges'],\n",
    "                                                      bin_scores=statistics[attr]['hist'])                    \n",
    "                    scores['positional'] = calculate_confidence(pos_scores, weights=attr_weights['positional'])\n",
    "                    \n",
    "                    semantical_scores = get_semantic_scores(element.text)\n",
    "                    semantical_scores['verbs'] *= pos_scores['length']\n",
    "                    \n",
    "                    regex_msg = semantical_scores.pop('regex_msg')\n",
    "                    scores['semantical'] = calculate_confidence(semantical_scores, weights=attr_weights['semantical'])\n",
    "                    \n",
    "                    confidence = calculate_confidence(scores, weights_0)\n",
    "                    \n",
    "                    if confidence > conf_threshold:\n",
    "                        elements_to_include.append((element.text, confidence))\n",
    "                    \n",
    "                color = 'grey' if confidence < conf_threshold else 'green'\n",
    "                    \n",
    "                if debug:\n",
    "                    debug_pdf.setFillColor(color, alpha=0.2)\n",
    "                    debug_pdf.rect(element.x0, element.y0, element.width, element.height, stroke=True, fill=True)\n",
    "                    \n",
    "                    # Текст элемента\n",
    "                    text = debug_pdf.beginText(element.x0 + 1, element.y1 - element.size + 2)\n",
    "                    text.setFont(\"Times-Roman\", element.size)\n",
    "                    text.setFillColor(color)\n",
    "                    \n",
    "                    for line in element.text.split('\\n'):\n",
    "                        text.textLine(line)\n",
    "                    debug_pdf.drawText(text)\n",
    "                    \n",
    "                    # Текст справа от элемента с его параметрами\n",
    "                    attrs_text = debug_pdf.beginText(element.x1, element.y1 - element.size + 2)\n",
    "                    attrs_text.setFont(\"Courier\", 7)\n",
    "                    attrs_text.setFillColor(color)\n",
    "                    attrs_text.textLine(f'Conf: {confidence}')\n",
    "                    \n",
    "                    for attr, value in scores.items():\n",
    "                        attrs_text.textLine(f'{attr.capitalize()} Score: {value:.2f}')\n",
    "                    \n",
    "                    attrs_text.setFont(\"Courier\", 5)\n",
    "                    for attr, value in pos_scores.items():\n",
    "                        attrs_text.textLine(f'{attr.capitalize()} Score: {value:.2f}')\n",
    "                    \n",
    "                    for attr, value in semantical_scores.items():\n",
    "                        attrs_text.textLine(f'{attr.capitalize()} Score: {value:.2f}')\n",
    "                        if attr == 'regex' and value < 0.5:\n",
    "                            attrs_text.textLine(f'Regex message: {regex_msg}')\n",
    "                    debug_pdf.drawText(attrs_text)\n",
    "                            \n",
    "        debug_pdf.showPage()\n",
    "    if debug:\n",
    "        debug_pdf.save()\n",
    "    file.close()\n",
    "    return elements_to_include"
   ]
  },
  {
   "cell_type": "code",
   "execution_count": 36,
   "id": "f05cd9d0",
   "metadata": {},
   "outputs": [
    {
     "name": "stdout",
     "output_type": "stream",
     "text": [
      "Process file 1 of 8: An Introduction To Information Retrieval.pdf...\n",
      "Statistics dictionary not passed, calculate statistics...\n"
     ]
    },
    {
     "data": {
      "application/vnd.jupyter.widget-view+json": {
       "model_id": "c13592c58f03481e82641cc5d5aaeed5",
       "version_major": 2,
       "version_minor": 0
      },
      "text/plain": [
       "  0%|          | 0/581 [00:00<?, ?it/s]"
      ]
     },
     "metadata": {},
     "output_type": "display_data"
    },
    {
     "name": "stdout",
     "output_type": "stream",
     "text": [
      "Most common font: DYRINA+Palatino-Roman\n",
      "Most common size: 10\n",
      "Most common style: Standart\n"
     ]
    },
    {
     "data": {
      "image/png": "[encoded data removed]",
      "text/plain": [
       "<Figure size 864x576 with 6 Axes>"
      ]
     },
     "metadata": {
      "needs_background": "light"
     },
     "output_type": "display_data"
    },
    {
     "name": "stdout",
     "output_type": "stream",
     "text": [
      "Statistics calculated.\n",
      "Results:\n",
      "{'min_length': 50, 'style': 'Standart', 'size': 10, 'font': 'DYRINA+Palatino-Roman', 'mean_length': 81.98043436965744, 'width': {'hist': array([8254, 1499,  873,  687,  405,  391,  336, 3327,   17,    4],\n",
      "      dtype=int64), 'bin_edges': array([2.22000000e-02, 4.67729540e+01, 9.35237080e+01, 1.40274462e+02,\n",
      "       1.87025216e+02, 2.33775970e+02, 2.80526724e+02, 3.27277478e+02,\n",
      "       3.74028232e+02, 4.20778986e+02, 4.67529740e+02])}, 'x0': {'hist': array([1565, 5706, 1716, 1858, 2235, 1581, 1070,   44,    8,   10],\n",
      "      dtype=int64), 'bin_edges': array([ 63.        , 124.84052791, 186.68105582, 248.52158374,\n",
      "       310.36211165, 372.20263956, 434.04316747, 495.88369538,\n",
      "       557.7242233 , 619.56475121, 681.40527912])}, 'x1': {'hist': array([ 284, 1140, 1844, 2364, 2420, 2727, 4854,  135,   14,   11],\n",
      "      dtype=int64), 'bin_edges': array([ 67.98132   , 130.29248314, 192.60364627, 254.91480941,\n",
      "       317.22597254, 379.53713568, 441.84829882, 504.15946195,\n",
      "       566.47062509, 628.78178822, 691.09295136])}}\n"
     ]
    },
    {
     "data": {
      "application/vnd.jupyter.widget-view+json": {
       "model_id": "7d9d57662db941fc82d5df055fbb084a",
       "version_major": 2,
       "version_minor": 0
      },
      "text/plain": [
       "  0%|          | 0/581 [00:00<?, ?it/s]"
      ]
     },
     "metadata": {},
     "output_type": "display_data"
    },
    {
     "name": "stdout",
     "output_type": "stream",
     "text": [
      "Process file 2 of 8: An Introduction To Information Retrieval_CHECK_CHECK.pdf...\n",
      "Statistics dictionary not passed, calculate statistics...\n"
     ]
    },
    {
     "data": {
      "application/vnd.jupyter.widget-view+json": {
       "model_id": "2b80be3462fa409d8002aea01cf44906",
       "version_major": 2,
       "version_minor": 0
      },
      "text/plain": [
       "  0%|          | 0/581 [00:00<?, ?it/s]"
      ]
     },
     "metadata": {},
     "output_type": "display_data"
    },
    {
     "name": "stdout",
     "output_type": "stream",
     "text": [
      "Most common font: Courier\n",
      "Most common size: 5\n",
      "Most common style: Standart\n"
     ]
    },
    {
     "data": {
      "image/png": "[encoded data removed]",
      "text/plain": [
       "<Figure size 864x576 with 6 Axes>"
      ]
     },
     "metadata": {
      "needs_background": "light"
     },
     "output_type": "display_data"
    },
    {
     "name": "stdout",
     "output_type": "stream",
     "text": [
      "Statistics calculated.\n",
      "Results:\n",
      "{'min_length': 50, 'style': 'Standart', 'size': 5, 'font': 'Courier', 'mean_length': 106.2406485201743, 'width': {'hist': array([17220, 13196,  1276,   621,   268,  1460,   268,   948,    67,\n",
      "          18], dtype=int64), 'bin_edges': array([5.00000e-01, 5.52540e+01, 1.10008e+02, 1.64762e+02, 2.19516e+02,\n",
      "       2.74270e+02, 3.29024e+02, 3.83778e+02, 4.38532e+02, 4.93286e+02,\n",
      "       5.48040e+02])}, 'x0': {'hist': array([ 2138,  5285,  1862,  1499,  1921,  3936,  1454, 16909,   313,\n",
      "          25], dtype=int64), 'bin_edges': array([ 65.     , 136.33955, 207.6791 , 279.01865, 350.3582 , 421.69775,\n",
      "       493.0373 , 564.37685, 635.7164 , 707.05595, 778.3955 ])}, 'x1': {'hist': array([ 1124,  2746,  1909,  2117,  3441,  5017,  3121, 15729,   115,\n",
      "          23], dtype=int64), 'bin_edges': array([ 93.196  , 171.79595, 250.3959 , 328.99585, 407.5958 , 486.19575,\n",
      "       564.7957 , 643.39565, 721.9956 , 800.59555, 879.1955 ])}}\n"
     ]
    },
    {
     "data": {
      "application/vnd.jupyter.widget-view+json": {
       "model_id": "fb91b75ce7bd4939a988c45294f72b52",
       "version_major": 2,
       "version_minor": 0
      },
      "text/plain": [
       "  0%|          | 0/581 [00:00<?, ?it/s]"
      ]
     },
     "metadata": {},
     "output_type": "display_data"
    }
   ],
   "source": [
    "DATADIR = 'data/raw/text_mining/books/'\n",
    "PARSED_FILES_DIR = 'data/processed/books/'\n",
    "\n",
    "filenames = os.listdir(DATADIR)\n",
    "results = []\n",
    "\n",
    "weights = {\n",
    "    \"positional\": {\n",
    "        \"total\": 0.5,    # Вес всех геометрических аргументов\n",
    "        \"length\": 0.45,\n",
    "        \"x0\": 0.1,\n",
    "        \"x1\": 0.15,\n",
    "        \"width\": 0.1,\n",
    "        \"pagenum\": 0.2,\n",
    "    },\n",
    "    \"semantical\": {\n",
    "        \"total\": 0.5,    # Вес всех семантических аргументов\n",
    "        \"regex\": 0.4,\n",
    "        \"verbs\": 0.3,\n",
    "        \"linebreaks\": 0.3 \n",
    "    }\n",
    "}\n",
    "\n",
    "len_slopes = (2, 0.4)\n",
    "\n",
    "\n",
    "for i, filename in enumerate(filenames[:2]):\n",
    "    attr_weights = copy.deepcopy(weights)\n",
    "    print(f'Process file {i + 1} of {len(filenames)}: {filename}...')\n",
    "    res = parse_pdf(DATADIR + filename,\n",
    "                    attr_weights=attr_weights,\n",
    "                    len_slopes=len_slopes,\n",
    "                    conf_threshold=0.55,\n",
    "                    verbose=True,\n",
    "                    debug=True,\n",
    "                    debug_dir=PARSED_FILES_DIR)\n",
    "    results.append(res)"
   ]
  },
  {
   "cell_type": "code",
   "execution_count": 37,
   "id": "0b187840",
   "metadata": {},
   "outputs": [],
   "source": [
    "texts = [' '.join([text for text, score in result]) for result in results]"
   ]
  },
  {
   "cell_type": "code",
   "execution_count": 38,
   "id": "747129a0",
   "metadata": {},
   "outputs": [],
   "source": [
    "texts = list(zip(filenames[:2], texts))"
   ]
  },
  {
   "cell_type": "code",
   "execution_count": 39,
   "id": "bf1f03b3",
   "metadata": {},
   "outputs": [],
   "source": [
    "for name, text in texts:\n",
    "    with open(f'data/processed/texts/{name.removesuffix(\"pdf\") + \"txt\"}', 'w', errors='ignore') as f:\n",
    "        f.write(text)"
   ]
  },
  {
   "cell_type": "code",
   "execution_count": null,
   "id": "71b3d5ac",
   "metadata": {},
   "outputs": [],
   "source": []
  }
 ],
 "metadata": {
  "kernelspec": {
   "display_name": "Python 3 (ipykernel)",
   "language": "python",
   "name": "python3"
  },
  "language_info": {
   "codemirror_mode": {
    "name": "ipython",
    "version": 3
   },
   "file_extension": ".py",
   "mimetype": "text/x-python",
   "name": "python",
   "nbconvert_exporter": "python",
   "pygments_lexer": "ipython3",
   "version": "3.10.2"
  },
  "toc": {
   "base_numbering": 1,
   "nav_menu": {},
   "number_sections": false,
   "sideBar": true,
   "skip_h1_title": false,
   "title_cell": "Table of Contents",
   "title_sidebar": "Contents",
   "toc_cell": false,
   "toc_position": {},
   "toc_section_display": true,
   "toc_window_display": false
  }
 },
 "nbformat": 4,
 "nbformat_minor": 5
}
